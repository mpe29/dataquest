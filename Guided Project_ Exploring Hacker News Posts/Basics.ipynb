{
 "cells": [
  {
   "cell_type": "markdown",
   "metadata": {
    "collapsed": true
   },
   "source": [
    "# Hacker News Post Analysis\n",
    "\n",
    "## Introduction\n",
    "\n",
    "Hacker News is a site started by the startup incubator Y Combinator, where user-submitted stories (known as \"posts\") are voted and commented upon, similar to reddit. Hacker News is extremely popular in technology and startup circles, and posts that make it to the top of Hacker News' listings can get hundreds of thousands of visitors as a result.\n",
    "\n",
    "You can find the data set [here](https://www.kaggle.com/hacker-news/hacker-news-posts), but note that it has been reduced from almost 300,000 rows to approximately 20,000 rows by removing all submissions that did not receive any comments, and then randomly sampling from the remaining submissions. Below are descriptions of the columns:\n",
    "\n",
    "- id: The unique identifier from Hacker News for the post\n",
    "- title: The title of the post\n",
    "- url: The URL that the posts links to, if it the post has a URL\n",
    "- num_points: The number of points the post acquired, calculated as the total number of upvotes minus the total number of downvotes\n",
    "- num_comments: The number of comments that were made on the post\n",
    "- author: The username of the person who submitted the post\n",
    "- created_at: The date and time at which the post was submitted\n",
    "\n",
    "Here is an example column:\n",
    "\n",
    "|id|title|\turl\t|num_points|num_comments|author\t| created_at|\n",
    "|-----|-----|----------|------------|-------|---------|\n",
    "|12224879|Interactive Dynamic Video|http://www.interactivedynamicvideo.com/ |386\t|52\t|ne0phyte\t|8/4/2016 \n",
    "\n",
    "We're specifically interested in posts whose titles begin with either Ask HN or Show HN. Users submit Ask HN posts to ask the Hacker News community a specific question. Below are a couple examples:\n",
    "- Ask HN: How to improve my personal website?\n",
    "- Ask HN: Am I the only one outraged by Twitter shutting down share counts?\n",
    "- Ask HN: Aby recent changes to CSS that broke mobile?\n",
    "\n",
    "Likewise, users submit Show HN posts to show the Hacker News community a project, product, or just generally something interesting. Below are a couple of examples:\n",
    "-Show HN: Wio Link  ESP8266 Based Web of Things Hardware Development Platform'\n",
    "-Show HN: Something pointless I made\n",
    "-Show HN: Shanhu.io, a programming playground powered by e8vm\n",
    "\n",
    "We'll compare these two types of posts to determine the following:\n",
    "\n",
    "Do Ask HN or Show HN receive more comments on average?\n",
    "Do posts created at a certain time receive more comments on average?"
   ]
  },
  {
   "cell_type": "markdown",
   "metadata": {},
   "source": [
    "## Miscellaneous Functions"
   ]
  },
  {
   "cell_type": "code",
   "execution_count": 7,
   "metadata": {
    "collapsed": true
   },
   "outputs": [],
   "source": [
    "### Nice Printing ###\n",
    "def nice_print(list):\n",
    "    for item in list:\n",
    "        print(item)\n",
    "        print(\"\\n\")"
   ]
  },
  {
   "cell_type": "markdown",
   "metadata": {},
   "source": [
    "## Section 1: Importing and filtering the dataset"
   ]
  },
  {
   "cell_type": "code",
   "execution_count": 8,
   "metadata": {
    "collapsed": false
   },
   "outputs": [
    {
     "name": "stdout",
     "output_type": "stream",
     "text": [
      "['id', 'title', 'url', 'num_points', 'num_comments', 'author', 'created_at']\n",
      "\n",
      "\n",
      "['12224879', 'Interactive Dynamic Video', 'http://www.interactivedynamicvideo.com/', '386', '52', 'ne0phyte', '8/4/2016 11:52']\n",
      "\n",
      "\n",
      "['10975351', 'How to Use Open Source and Shut the Fuck Up at the Same Time', 'http://hueniverse.com/2016/01/26/how-to-use-open-source-and-shut-the-fuck-up-at-the-same-time/', '39', '10', 'josep2', '1/26/2016 19:30']\n",
      "\n",
      "\n",
      "['11964716', \"Florida DJs May Face Felony for April Fools' Water Joke\", 'http://www.thewire.com/entertainment/2013/04/florida-djs-april-fools-water-joke/63798/', '2', '1', 'vezycash', '6/23/2016 22:20']\n",
      "\n",
      "\n",
      "['11919867', 'Technology ventures: From Idea to Enterprise', 'https://www.amazon.com/Technology-Ventures-Enterprise-Thomas-Byers/dp/0073523429', '3', '1', 'hswarna', '6/17/2016 0:01']\n",
      "\n",
      "\n",
      "['10301696', 'Note by Note: The Making of Steinway L1037 (2007)', 'http://www.nytimes.com/2007/11/07/movies/07stein.html?_r=0', '8', '2', 'walterbell', '9/30/2015 4:12']\n",
      "\n",
      "\n",
      "The length of the data set is: 20100\n"
     ]
    }
   ],
   "source": [
    "from csv import *\n",
    "open_file=open('hacker_news.csv')\n",
    "read_file=reader(open_file)\n",
    "hn=list(read_file)\n",
    "headers=hn[0] #HEADER\n",
    "hn=hn[1:]       #ALL DATA\n",
    "print(headers)\n",
    "print('\\n')\n",
    "nice_print(hn[:5])\n",
    "print(\"The length of the data set is:\",len(hn))"
   ]
  },
  {
   "cell_type": "markdown",
   "metadata": {
    "collapsed": true
   },
   "source": [
    "## Filtering for Ask HN or Show HN:\n",
    "### Using 'startswith( )' and 'lower( )'\n",
    "Now that we've removed the headers from hn, we're ready to filter our data. Since we're only concerned with post titles beginning with Ask HN or Show HN, we'll create new lists of lists containing just the data for those titles."
   ]
  },
  {
   "cell_type": "code",
   "execution_count": 9,
   "metadata": {
    "collapsed": false
   },
   "outputs": [
    {
     "name": "stdout",
     "output_type": "stream",
     "text": [
      "1744\n",
      "1162\n",
      "17194\n",
      "The sum of these sets is 20100 and it should be 20100\n",
      "\n",
      "\n",
      "The first 5 posts in ask_posts are:\n",
      "\n",
      "\n",
      "['12296411', 'Ask HN: How to improve my personal website?', '', '2', '6', 'ahmedbaracat', '8/16/2016 9:55']\n",
      "\n",
      "\n",
      "['10610020', 'Ask HN: Am I the only one outraged by Twitter shutting down share counts?', '', '28', '29', 'tkfx', '11/22/2015 13:43']\n",
      "\n",
      "\n",
      "['11610310', 'Ask HN: Aby recent changes to CSS that broke mobile?', '', '1', '1', 'polskibus', '5/2/2016 10:14']\n",
      "\n",
      "\n",
      "['12210105', 'Ask HN: Looking for Employee #3 How do I do it?', '', '1', '3', 'sph130', '8/2/2016 14:20']\n",
      "\n",
      "\n",
      "['10394168', 'Ask HN: Someone offered to buy my browser extension from me. What now?', '', '28', '17', 'roykolak', '10/15/2015 16:38']\n",
      "\n",
      "\n",
      "The first 5 posts in show_posts are:\n",
      "\n",
      "\n",
      "['10627194', 'Show HN: Wio Link  ESP8266 Based Web of Things Hardware Development Platform', 'https://iot.seeed.cc', '26', '22', 'kfihihc', '11/25/2015 14:03']\n",
      "\n",
      "\n",
      "['10646440', 'Show HN: Something pointless I made', 'http://dn.ht/picklecat/', '747', '102', 'dhotson', '11/29/2015 22:46']\n",
      "\n",
      "\n",
      "['11590768', 'Show HN: Shanhu.io, a programming playground powered by e8vm', 'https://shanhu.io', '1', '1', 'h8liu', '4/28/2016 18:05']\n",
      "\n",
      "\n",
      "['12178806', 'Show HN: Webscope  Easy way for web developers to communicate with Clients', 'http://webscopeapp.com', '3', '3', 'fastbrick', '7/28/2016 7:11']\n",
      "\n",
      "\n",
      "['10872799', 'Show HN: GeoScreenshot  Easily test Geo-IP based web pages', 'https://www.geoscreenshot.com/', '1', '9', 'kpsychwave', '1/9/2016 20:45']\n",
      "\n",
      "\n",
      "The first 5 posts in other_posts are:\n",
      "\n",
      "\n",
      "['12224879', 'Interactive Dynamic Video', 'http://www.interactivedynamicvideo.com/', '386', '52', 'ne0phyte', '8/4/2016 11:52']\n",
      "\n",
      "\n",
      "['10975351', 'How to Use Open Source and Shut the Fuck Up at the Same Time', 'http://hueniverse.com/2016/01/26/how-to-use-open-source-and-shut-the-fuck-up-at-the-same-time/', '39', '10', 'josep2', '1/26/2016 19:30']\n",
      "\n",
      "\n",
      "['11964716', \"Florida DJs May Face Felony for April Fools' Water Joke\", 'http://www.thewire.com/entertainment/2013/04/florida-djs-april-fools-water-joke/63798/', '2', '1', 'vezycash', '6/23/2016 22:20']\n",
      "\n",
      "\n",
      "['11919867', 'Technology ventures: From Idea to Enterprise', 'https://www.amazon.com/Technology-Ventures-Enterprise-Thomas-Byers/dp/0073523429', '3', '1', 'hswarna', '6/17/2016 0:01']\n",
      "\n",
      "\n",
      "['10301696', 'Note by Note: The Making of Steinway L1037 (2007)', 'http://www.nytimes.com/2007/11/07/movies/07stein.html?_r=0', '8', '2', 'walterbell', '9/30/2015 4:12']\n",
      "\n",
      "\n"
     ]
    }
   ],
   "source": [
    "ask_posts=[]\n",
    "show_posts=[]\n",
    "other_posts=[]\n",
    "\n",
    "for item in hn:\n",
    "    title=item[1]\n",
    "    title=title.lower()\n",
    "    if title.startswith('ask hn'):\n",
    "        ask_posts.append(item)\n",
    "    elif title.startswith('show hn'):\n",
    "        show_posts.append(item)\n",
    "    else:\n",
    "        other_posts.append(item)\n",
    "print(len(ask_posts))\n",
    "print(len(show_posts))\n",
    "print(len(other_posts))\n",
    "sum_lists=len(ask_posts)+len(show_posts)+len(other_posts)\n",
    "print(\"The sum of these sets is\", sum_lists,\"and it should be\", len(hn))\n",
    "print(\"\\n\")\n",
    "print(\"The first 5 posts in ask_posts are:\")\n",
    "print(\"\\n\")\n",
    "nice_print(ask_posts[:5])\n",
    "print(\"The first 5 posts in show_posts are:\")\n",
    "print(\"\\n\")\n",
    "nice_print(show_posts[:5])\n",
    "print(\"The first 5 posts in other_posts are:\")\n",
    "print(\"\\n\")\n",
    "nice_print(other_posts[:5])"
   ]
  },
  {
   "cell_type": "markdown",
   "metadata": {},
   "source": [
    "## Section 2: Analysing the Ask and Show posts\n",
    "\n",
    "Next, let's determine if ask posts or show posts receive more comments on average."
   ]
  },
  {
   "cell_type": "code",
   "execution_count": 10,
   "metadata": {
    "collapsed": false
   },
   "outputs": [
    {
     "name": "stdout",
     "output_type": "stream",
     "text": [
      "The total number of comments on Ask Posts was: 24483\n",
      "The average number of comments on Ask Posts was: 14\n",
      "\n",
      "\n",
      "The total number of comments on Show Posts was: 11988\n",
      "The average number of comments on Show Posts was: 10\n"
     ]
    }
   ],
   "source": [
    "### Calculating total and avg comments for ASK posts ####\n",
    "total_ask_comments=0\n",
    "for item in ask_posts:\n",
    "    n_comments=int(item[4])\n",
    "    total_ask_comments+=n_comments\n",
    "avg_ask_comments=round(total_ask_comments/len(ask_posts))\n",
    "print(\"The total number of comments on Ask Posts was:\",total_ask_comments)\n",
    "print(\"The average number of comments on Ask Posts was:\", avg_ask_comments)\n",
    "print(\"\\n\")\n",
    "\n",
    "### Calculating total and avg comments for SHOW posts ####\n",
    "total_show_comments=0\n",
    "for item in show_posts:\n",
    "    n_comments=int(item[4])\n",
    "    total_show_comments+=n_comments\n",
    "avg_show_comments=round(total_show_comments/len(show_posts))\n",
    "print(\"The total number of comments on Show Posts was:\",total_show_comments)\n",
    "print(\"The average number of comments on Show Posts was:\", avg_show_comments)"
   ]
  },
  {
   "cell_type": "markdown",
   "metadata": {},
   "source": [
    "### Show vs Ask comment rates\n",
    "Ask posts get 40% more comments on average than show posts. They also appear about twice as frequently in this sample set.\n",
    "At first glance this makes sense as the ask_posts are of course specifically asking users for comment. \n",
    "\n",
    "Since ask posts are more likely to receive comments, we'll focus our remaining analysis just on these posts."
   ]
  },
  {
   "cell_type": "markdown",
   "metadata": {},
   "source": [
    "### How Time of posts effects comment rate\n",
    "We'll use the following steps to perform this analysis:\n",
    "\n",
    "1. Calculate the number of ask posts created in each hour of the day, along with the number of comments received.\n",
    "2. Calculate the average number of comments ask posts receive by hour created.\n",
    "\n",
    "We'll use the datetime module to work with the data in the created_at column.\n",
    "\n",
    "Recall that we can use the datetime.strptime() constructor to parse dates stored as strings and return datetime objects:"
   ]
  },
  {
   "cell_type": "code",
   "execution_count": 23,
   "metadata": {
    "collapsed": false
   },
   "outputs": [
    {
     "name": "stdout",
     "output_type": "stream",
     "text": [
      "counts_by_hour\n",
      "{'06': 44, '02': 58, '11': 58, '21': 109, '05': 46, '19': 110, '14': 107, '12': 73, '17': 100, '04': 47, '00': 55, '01': 60, '09': 45, '10': 59, '23': 68, '08': 48, '16': 108, '07': 34, '20': 80, '22': 71, '13': 85, '15': 116, '18': 109, '03': 54}\n",
      "\n",
      "\n",
      "comments_by_hour\n",
      "{'06': 397, '02': 1381, '11': 641, '21': 1745, '05': 464, '19': 1188, '14': 1416, '12': 687, '17': 1146, '04': 337, '00': 447, '01': 683, '09': 251, '10': 793, '23': 543, '08': 492, '16': 1814, '07': 267, '20': 1722, '22': 479, '13': 1253, '15': 4477, '18': 1439, '03': 421}\n"
     ]
    }
   ],
   "source": [
    "import datetime as dt\n",
    "result_list=[]\n",
    "for item in ask_posts:\n",
    "    created_at=item[6]\n",
    "    n_comments=int(item[4])\n",
    "    result_list.append([created_at,n_comments])\n",
    "\n",
    "counts_by_hour={} ### Tracks a freq table for number of posts per hour\n",
    "comments_by_hour={} ### Tracks a for table for number of comments per hour\n",
    "for item in result_list:\n",
    "    hour=item[0]\n",
    "    n_comments=item[1]\n",
    "    hour = dt.datetime.strptime(hour, \"%m/%d/%Y %H:%M\")\n",
    "    hour = dt.datetime.strftime(hour, \"%H\")\n",
    "    if hour not in counts_by_hour:\n",
    "        counts_by_hour[hour]=1\n",
    "        comments_by_hour[hour]=n_comments\n",
    "    else:\n",
    "        counts_by_hour[hour]+=1\n",
    "        comments_by_hour[hour]+=n_comments\n",
    "print(\"counts_by_hour\")\n",
    "print(counts_by_hour)\n",
    "print(\"\\n\")\n",
    "print(\"comments_by_hour\")\n",
    "print(comments_by_hour)\n"
   ]
  },
  {
   "cell_type": "markdown",
   "metadata": {},
   "source": [
    "### Calculating Avergae CommentsPer Post for Each Hour\n",
    "We'll use these two dictionaries to calculate the average number of comments for posts created during each hour of the day."
   ]
  },
  {
   "cell_type": "code",
   "execution_count": 40,
   "metadata": {
    "collapsed": false
   },
   "outputs": [
    {
     "name": "stdout",
     "output_type": "stream",
     "text": [
      "[['06', 9.02], ['02', 23.81], ['11', 11.05], ['21', 16.01], ['05', 10.09], ['19', 10.8], ['14', 13.23], ['12', 9.41], ['17', 11.46], ['04', 7.17], ['00', 8.13], ['01', 11.38], ['09', 5.58], ['10', 13.44], ['23', 7.99], ['08', 10.25], ['16', 16.8], ['07', 7.85], ['20', 21.52], ['22', 6.75], ['13', 14.74], ['15', 38.59], ['18', 13.2], ['03', 7.8]]\n"
     ]
    }
   ],
   "source": [
    "### Calculating the avergae number of comments per post per hour ###\n",
    "avg_by_hour=[]\n",
    "for item in counts_by_hour:\n",
    "    hour=item\n",
    "    n_posts=int(counts_by_hour[hour])\n",
    "    n_comments=int(comments_by_hour[hour])\n",
    "    if posts != 0:\n",
    "        avg_val=round(n_comments/n_posts,2)\n",
    "        avg_by_hour.append([hour,avg_val])\n",
    "print(avg_by_hour)\n"
   ]
  },
  {
   "cell_type": "markdown",
   "metadata": {},
   "source": [
    "### Sorting the Frequency Table \n",
    "Although we now have the results we need, this format makes it hard to identify the hours with the highest values. Let's finish by sorting the list of lists and printing the five highest values in a format that's easier to read."
   ]
  },
  {
   "cell_type": "code",
   "execution_count": 54,
   "metadata": {
    "collapsed": false
   },
   "outputs": [
    {
     "name": "stdout",
     "output_type": "stream",
     "text": [
      "[[9.02, '06'], [23.81, '02'], [11.05, '11'], [16.01, '21'], [10.09, '05'], [10.8, '19'], [13.23, '14'], [9.41, '12'], [11.46, '17'], [7.17, '04'], [8.13, '00'], [11.38, '01'], [5.58, '09'], [13.44, '10'], [7.99, '23'], [10.25, '08'], [16.8, '16'], [7.85, '07'], [21.52, '20'], [6.75, '22'], [14.74, '13'], [38.59, '15'], [13.2, '18'], [7.8, '03']]\n",
      "\n",
      "\n",
      "[[38.59, '15'], [23.81, '02'], [21.52, '20'], [16.8, '16'], [16.01, '21'], [14.74, '13'], [13.44, '10'], [13.23, '14'], [13.2, '18'], [11.46, '17'], [11.38, '01'], [11.05, '11'], [10.8, '19'], [10.25, '08'], [10.09, '05'], [9.41, '12'], [9.02, '06'], [8.13, '00'], [7.99, '23'], [7.85, '07'], [7.8, '03'], [7.17, '04'], [6.75, '22'], [5.58, '09']]\n",
      "\n",
      "\n"
     ]
    }
   ],
   "source": [
    "swap_avg_by_hour=[]\n",
    "for item in avg_by_hour:\n",
    "    swap_avg_by_hour.append([item[1],item[0]])\n",
    "\n",
    "print(swap_avg_by_hour)\n",
    "print(\"\\n\") # Sort with most comments per hour first \n",
    "print(sorted(swap_avg_by_hour, reverse=True))\n",
    "print(\"\\n\") \n"
   ]
  },
  {
   "cell_type": "code",
   "execution_count": 58,
   "metadata": {
    "collapsed": false
   },
   "outputs": [
    {
     "name": "stdout",
     "output_type": "stream",
     "text": [
      "Top 5 Hours for Ask Posts Comments\n",
      "15:00: 38.59 average comments per post\n",
      "02:00: 23.81 average comments per post\n",
      "20:00: 21.52 average comments per post\n",
      "16:00: 16.80 average comments per post\n",
      "21:00: 16.01 average comments per post\n"
     ]
    }
   ],
   "source": [
    "### Formalize the swap in a sexy new set name ###\n",
    "sorted_swap = sorted(swap_avg_by_hour, reverse=True)\n",
    "print(\"Top 5 Hours for Ask Posts Comments\")\n",
    "\n",
    "for pair in sorted_swap[:5]:\n",
    "    avg_comments=pair[0]\n",
    "    hour=pair[1]\n",
    "    hour=dt.datetime.strptime(hour,\"%H\")\n",
    "    hour=dt.datetime.strftime(hour,\"%H\")\n",
    "    hour=hour+\":00\"\n",
    "    output=\"{hour}: {avg:.2f} average comments per post\".format(hour=hour,avg=avg_comments)\n",
    "    print(output)\n"
   ]
  },
  {
   "cell_type": "markdown",
   "metadata": {},
   "source": [
    "## Section 3: Conclusion and Recommendations\n",
    "\n",
    "Late afternoon and late evening time are ideal for receiving high comment numbers. Specifically 3-4pm seems to be strong. This may due to it being near the end of work and posts at that time will receive a bit of traction during the hour before work ends and get a huge boost from people finishing work. There often may be a significant lag from positing to when the comments come in. And so sometime, like as we have seen here, posting at 5pm when people get off work may not be as good of an idea as one would think. But rather to preemt close of work by an hour or two. \n",
    "\n",
    "### Further Analysis\n",
    "There is a lot more we could do with this dataset.\n",
    "Here are some next steps for you to consider:\n",
    "\n",
    "1. Determine if show or ask posts receive more points on average.\n",
    "2. Determine if posts created at a certain time are more likely to receive more points.\n",
    "3. Compare your results to the average number of comments and points other posts receive.\n",
    "4. Use Dataquest's data science project style guide to format your project."
   ]
  }
 ],
 "metadata": {
  "kernelspec": {
   "display_name": "Python 3",
   "language": "python",
   "name": "python3"
  },
  "language_info": {
   "codemirror_mode": {
    "name": "ipython",
    "version": 3
   },
   "file_extension": ".py",
   "mimetype": "text/x-python",
   "name": "python",
   "nbconvert_exporter": "python",
   "pygments_lexer": "ipython3",
   "version": "3.4.3"
  }
 },
 "nbformat": 4,
 "nbformat_minor": 2
}
