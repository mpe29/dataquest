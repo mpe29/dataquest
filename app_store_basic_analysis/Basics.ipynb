{
 "cells": [
  {
   "cell_type": "markdown",
   "metadata": {},
   "source": [
    "# Analyzing App Data\n",
    "***\n",
    "In this project we will import app data from the Google Play and the App Store library to better understand what users are looking for in an app. \n",
    "\n",
    "The goals of this project is to advize developers as to how they can improve thier apps by providing insights into what users seem to be looking for and how users are actually interacting with the apps."
   ]
  },
  {
   "cell_type": "markdown",
   "metadata": {},
   "source": [
    "## Section 1: Introducing The Data Set\n",
    "***\n",
    "1. A data set containing data about approximately ten thousand Android apps from Google Play — the data was collected in August 2018. [dataset](https://www.kaggle.com/lava18/google-play-store-apps/home)\n",
    "2. A data set containing data about approximately seven thousand iOS apps from the App Store — the data was collected in July 2017. [dataset](https://www.kaggle.com/ramamet4/app-store-apple-data-set-10k-apps/home)"
   ]
  },
  {
   "cell_type": "code",
   "execution_count": 38,
   "metadata": {
    "collapsed": true
   },
   "outputs": [],
   "source": [
    "from csv import reader\n",
    "\n",
    "### The Google Play data set ###\n",
    "opened_file = open('googleplaystore.csv')\n",
    "read_file = reader(opened_file)\n",
    "android = list(read_file)\n",
    "android_header = android[0]\n",
    "android = android[1:]\n",
    "\n",
    "### The App Store data set ###\n",
    "opened_file = open('AppleStore.csv')\n",
    "read_file = reader(opened_file)\n",
    "ios = list(read_file)\n",
    "ios_header = ios[0]\n",
    "ios = ios[1:]"
   ]
  },
  {
   "cell_type": "markdown",
   "metadata": {},
   "source": [
    "`explore_data(dataset, start, end, rows_and_columns=False)` is a useful fucntion that parses a data set in cvs. It slices the data as you with. It then prints the set. And it finally provides row and column data.\n",
    "\n",
    "It takes in four parameters:\n",
    "\n",
    "dataset, which is expected to be a list of lists\n",
    "start and end, which are both expected to be integers and represent the starting and the ending indices of a slice from the data set\n",
    "rows_and_columns, which is expected to be a Boolean and has False as a default argument."
   ]
  },
  {
   "cell_type": "code",
   "execution_count": 39,
   "metadata": {
    "collapsed": true
   },
   "outputs": [],
   "source": [
    "def explore_data(dataset, start, end, rows_and_columns=False):\n",
    "    dataset_slice = dataset[start:end]    \n",
    "    for row in dataset_slice:\n",
    "        print(row)\n",
    "        print('\\n') # adds a new (empty) line after each row\n",
    "\n",
    "    if rows_and_columns:\n",
    "        print('Number of rows:', len(dataset))\n",
    "        print('Number of columns:', len(dataset[0]))"
   ]
  },
  {
   "cell_type": "markdown",
   "metadata": {},
   "source": [
    "### Exploring Android Data"
   ]
  },
  {
   "cell_type": "code",
   "execution_count": 40,
   "metadata": {
    "collapsed": false
   },
   "outputs": [
    {
     "name": "stdout",
     "output_type": "stream",
     "text": [
      "['App', 'Category', 'Rating', 'Reviews', 'Size', 'Installs', 'Type', 'Price', 'Content Rating', 'Genres', 'Last Updated', 'Current Ver', 'Android Ver']\n",
      "\n",
      "\n",
      "['Photo Editor & Candy Camera & Grid & ScrapBook', 'ART_AND_DESIGN', '4.1', '159', '19M', '10,000+', 'Free', '0', 'Everyone', 'Art & Design', 'January 7, 2018', '1.0.0', '4.0.3 and up']\n",
      "\n",
      "\n",
      "['Coloring book moana', 'ART_AND_DESIGN', '3.9', '967', '14M', '500,000+', 'Free', '0', 'Everyone', 'Art & Design;Pretend Play', 'January 15, 2018', '2.0.0', '4.0.3 and up']\n",
      "\n",
      "\n",
      "['U Launcher Lite – FREE Live Cool Themes, Hide Apps', 'ART_AND_DESIGN', '4.7', '87510', '8.7M', '5,000,000+', 'Free', '0', 'Everyone', 'Art & Design', 'August 1, 2018', '1.2.4', '4.0.3 and up']\n",
      "\n",
      "\n",
      "Number of rows: 10841\n",
      "Number of columns: 13\n"
     ]
    }
   ],
   "source": [
    "print(android_header)\n",
    "print('\\n')\n",
    "explore_data(android, 0, 3, True)"
   ]
  },
  {
   "cell_type": "markdown",
   "metadata": {},
   "source": [
    "## Exploring iOS Data"
   ]
  },
  {
   "cell_type": "code",
   "execution_count": 41,
   "metadata": {
    "collapsed": false
   },
   "outputs": [
    {
     "name": "stdout",
     "output_type": "stream",
     "text": [
      "['id', 'track_name', 'size_bytes', 'currency', 'price', 'rating_count_tot', 'rating_count_ver', 'user_rating', 'user_rating_ver', 'ver', 'cont_rating', 'prime_genre', 'sup_devices.num', 'ipadSc_urls.num', 'lang.num', 'vpp_lic']\n",
      "\n",
      "\n",
      "['284882215', 'Facebook', '389879808', 'USD', '0.0', '2974676', '212', '3.5', '3.5', '95.0', '4+', 'Social Networking', '37', '1', '29', '1']\n",
      "\n",
      "\n",
      "['389801252', 'Instagram', '113954816', 'USD', '0.0', '2161558', '1289', '4.5', '4.0', '10.23', '12+', 'Photo & Video', '37', '0', '29', '1']\n",
      "\n",
      "\n",
      "['529479190', 'Clash of Clans', '116476928', 'USD', '0.0', '2130805', '579', '4.5', '4.5', '9.24.12', '9+', 'Games', '38', '5', '18', '1']\n",
      "\n",
      "\n",
      "Number of rows: 7197\n",
      "Number of columns: 16\n"
     ]
    }
   ],
   "source": [
    "print(ios_header)\n",
    "print('\\n')\n",
    "explore_data(ios, 0, 3, True)"
   ]
  },
  {
   "cell_type": "markdown",
   "metadata": {
    "collapsed": true
   },
   "source": [
    "|App|Category|Rating|Reviews|Size|Installations|Type|Price|Content Rating|Genre|Last Updated|Current Ver.|Android Ver.|\n",
    "|---|:---:|---:|\n",
    "\n",
    "Of the 13 categories recorded in our data set all could be useful for analysis of some sort. However, we will likely skip over 'last updated' and 'current version.' \n",
    "\n",
    "Take a look at the [documentation](https://www.kaggle.com/ramamet4/app-store-apple-data-set-10k-apps/home) here for more information on the raw data set. "
   ]
  },
  {
   "cell_type": "markdown",
   "metadata": {},
   "source": [
    "# Section 2: Cleaning the Data\n",
    "***\n",
    "\n",
    "## Deleting Duplicates, Innacuracies, and Irrelevant Data.\n",
    "\n",
    "### We will need to\n",
    "### 1. Detect inaccurate data and correct (or remove) it\n",
    "### 2. Detect duplicate data and remove the duplicates\n",
    "### 3. Remove non-English apps like 爱奇艺PPS -《欢乐颂2》电视剧热播\n",
    "### 4. Remove non-free apps\n",
    "***"
   ]
  },
  {
   "cell_type": "markdown",
   "metadata": {},
   "source": [
    "### Missing Information\n",
    "\n",
    "Below is an example of diry data. The 'genre' column is missing here. In cases like this we will delete the entire list. "
   ]
  },
  {
   "cell_type": "code",
   "execution_count": 42,
   "metadata": {
    "collapsed": false
   },
   "outputs": [
    {
     "name": "stdout",
     "output_type": "stream",
     "text": [
      "['App', 'Category', 'Rating', 'Reviews', 'Size', 'Installs', 'Type', 'Price', 'Content Rating', 'Genres', 'Last Updated', 'Current Ver', 'Android Ver']\n",
      "\n",
      "\n",
      "['Life Made WI-Fi Touchscreen Photo Frame', '1.9', '19', '3.0M', '1,000+', 'Free', '0', 'Everyone', '', 'February 11, 2018', '1.0.19', '4.0 and up']\n"
     ]
    }
   ],
   "source": [
    "print(android_header)\n",
    "print('\\n')\n",
    "print(android[10472]) # inocrrect row"
   ]
  },
  {
   "cell_type": "code",
   "execution_count": 43,
   "metadata": {
    "collapsed": false
   },
   "outputs": [
    {
     "name": "stdout",
     "output_type": "stream",
     "text": [
      "10841\n",
      "['osmino Wi-Fi: free WiFi', 'TOOLS', '4.2', '134203', '4.1M', '10,000,000+', 'Free', '0', 'Everyone', 'Tools', 'August 7, 2018', '6.06.14', '4.4 and up']\n",
      "10840\n"
     ]
    }
   ],
   "source": [
    "print(len(android))\n",
    "del android[10472] #dont run this again\n",
    "print(android[10472])\n",
    "print(len(android))"
   ]
  },
  {
   "cell_type": "markdown",
   "metadata": {},
   "source": [
    "### Duplicates\n",
    "We know from visually scanning some of the data and looking through the data set comments online that there are quite a few instances of repeated entried. \n",
    "\n",
    "Below is one example of Instagram. However there are more that 1000 repeat rows. "
   ]
  },
  {
   "cell_type": "markdown",
   "metadata": {},
   "source": [
    "### Removing Android Duplicates"
   ]
  },
  {
   "cell_type": "code",
   "execution_count": 44,
   "metadata": {
    "collapsed": false
   },
   "outputs": [
    {
     "name": "stdout",
     "output_type": "stream",
     "text": [
      "['Instagram', 'SOCIAL', '4.5', '66577313', 'Varies with device', '1,000,000,000+', 'Free', '0', 'Teen', 'Social', 'July 31, 2018', 'Varies with device', 'Varies with device']\n",
      "\n",
      "\n",
      "['Instagram', 'SOCIAL', '4.5', '66577446', 'Varies with device', '1,000,000,000+', 'Free', '0', 'Teen', 'Social', 'July 31, 2018', 'Varies with device', 'Varies with device']\n",
      "\n",
      "\n",
      "['Instagram', 'SOCIAL', '4.5', '66577313', 'Varies with device', '1,000,000,000+', 'Free', '0', 'Teen', 'Social', 'July 31, 2018', 'Varies with device', 'Varies with device']\n",
      "\n",
      "\n",
      "['Instagram', 'SOCIAL', '4.5', '66509917', 'Varies with device', '1,000,000,000+', 'Free', '0', 'Teen', 'Social', 'July 31, 2018', 'Varies with device', 'Varies with device']\n",
      "\n",
      "\n"
     ]
    }
   ],
   "source": [
    "for app in android:\n",
    "    name=app[0]\n",
    "    if name == \"Instagram\":\n",
    "        print(app)\n",
    "        print(\"\\n\")\n",
    "    "
   ]
  },
  {
   "cell_type": "code",
   "execution_count": 45,
   "metadata": {
    "collapsed": false
   },
   "outputs": [
    {
     "name": "stdout",
     "output_type": "stream",
     "text": [
      "Number of duplicate apps: 1181\n",
      "\n",
      "\n",
      "Number of unique apps: 9659\n",
      "\n",
      "\n",
      "Example of duplicate apps: ['Quick PDF Scanner + OCR FREE', 'Box', 'Google My Business', 'ZOOM Cloud Meetings', 'join.me - Simple Meetings', 'Box', 'Zenefits', 'Google Ads', 'Google My Business', 'Slack', 'FreshBooks Classic', 'Insightly CRM', 'QuickBooks Accounting: Invoicing & Expenses', 'HipChat - Chat Built for Teams', 'Xero Accounting Software', 'MailChimp - Email, Marketing Automation', 'Crew - Free Messaging and Scheduling', 'Asana: organize team projects', 'Google Analytics', 'AdWords Express']\n"
     ]
    }
   ],
   "source": [
    "duplicate_apps=[]\n",
    "unique_apps=[]\n",
    "for app in android:\n",
    "    name = app[0]\n",
    "    if name in unique_apps:\n",
    "        duplicate_apps.append(name)\n",
    "    else:\n",
    "        unique_apps.append(name)\n",
    "\n",
    "print(\"Number of duplicate apps:\", len(duplicate_apps))\n",
    "print(\"\\n\")\n",
    "print(\"Number of unique apps:\", len(unique_apps))\n",
    "print(\"\\n\")\n",
    "print(\"Example of duplicate apps:\", duplicate_apps[:20])\n"
   ]
  },
  {
   "cell_type": "markdown",
   "metadata": {},
   "source": [
    "So we we need to delete duplicates. However if the copies are not idential, say they are of different ages, then the information they contain will vary. For example, a newer inout may habve more reviews or a more recent version. We will be carefull to pick the more recent version and delete the older duplicates. We will focus on number of reviews as you can see from the below data that \"version\" can be undefined as \"Varies with Device.\"\n",
    "\n",
    "Below you can see the \"Instagram\" duplicated and the varying review number."
   ]
  },
  {
   "cell_type": "code",
   "execution_count": 46,
   "metadata": {
    "collapsed": false
   },
   "outputs": [
    {
     "name": "stdout",
     "output_type": "stream",
     "text": [
      "['Instagram', 'SOCIAL', '4.5', '66577313', 'Varies with device', '1,000,000,000+', 'Free', '0', 'Teen', 'Social', 'July 31, 2018', 'Varies with device', 'Varies with device']\n",
      "\n",
      "\n",
      "['Instagram', 'SOCIAL', '4.5', '66577446', 'Varies with device', '1,000,000,000+', 'Free', '0', 'Teen', 'Social', 'July 31, 2018', 'Varies with device', 'Varies with device']\n",
      "\n",
      "\n",
      "['Instagram', 'SOCIAL', '4.5', '66577313', 'Varies with device', '1,000,000,000+', 'Free', '0', 'Teen', 'Social', 'July 31, 2018', 'Varies with device', 'Varies with device']\n",
      "\n",
      "\n",
      "['Instagram', 'SOCIAL', '4.5', '66509917', 'Varies with device', '1,000,000,000+', 'Free', '0', 'Teen', 'Social', 'July 31, 2018', 'Varies with device', 'Varies with device']\n",
      "\n",
      "\n"
     ]
    }
   ],
   "source": [
    "for app in android:\n",
    "    name = app[0]\n",
    "    if name ==\"Instagram\":\n",
    "        print(app)\n",
    "        print(\"\\n\")"
   ]
  },
  {
   "cell_type": "code",
   "execution_count": 47,
   "metadata": {
    "collapsed": false
   },
   "outputs": [],
   "source": [
    "for app in android:\n",
    "    if app[3]=='3.0M':\n",
    "        print(app)"
   ]
  },
  {
   "cell_type": "code",
   "execution_count": 48,
   "metadata": {
    "collapsed": false
   },
   "outputs": [
    {
     "name": "stdout",
     "output_type": "stream",
     "text": [
      "Expected length: 9659\n",
      "Actual length: 9659\n"
     ]
    }
   ],
   "source": [
    "reviews_max = {}\n",
    "for app in android:\n",
    "    name = app[0]\n",
    "    n_reviews = float(app[3])\n",
    "    \n",
    "    if name in reviews_max and n_reviews > reviews_max[name]:\n",
    "        reviews_max[name]=n_reviews\n",
    "        \n",
    "    elif name not in reviews_max:\n",
    "        reviews_max[name]=n_reviews\n",
    "        \n",
    "print('Expected length:', len(android) - 1181)\n",
    "print('Actual length:', len(reviews_max))"
   ]
  },
  {
   "cell_type": "markdown",
   "metadata": {},
   "source": [
    "We have isolated the duplicates with the highest ratings. We have then verified that the expected lenght and out new length match. Indeed they do!\n",
    "\n",
    "Next we must actually produce a new clean set of data. "
   ]
  },
  {
   "cell_type": "code",
   "execution_count": 49,
   "metadata": {
    "collapsed": false
   },
   "outputs": [
    {
     "name": "stdout",
     "output_type": "stream",
     "text": [
      "There are 9659 items in this clean set.\n",
      "There was 1 version of Instagram\n",
      "and it has 66577446 ratings, as expected!\n"
     ]
    }
   ],
   "source": [
    "android_clean=[] # stores our new clean data set\n",
    "already_added=[] # stores only app names\n",
    "\n",
    "for app in android:\n",
    "    name = app[0]\n",
    "    n_reviews = float(app[3])\n",
    "    if n_reviews == reviews_max[name] and name not in already_added:\n",
    "        android_clean.append(app)\n",
    "        already_added.append(name)\n",
    "        \n",
    "print(\"There are\", len(android_clean), \"items in this clean set.\")\n",
    "\n",
    "def check_duplicate(data_set, app_name):\n",
    "    counter=0\n",
    "    for app in data_set:\n",
    "        name=app[0]\n",
    "        if name == app_name:\n",
    "            counter+=1\n",
    "            ratings=app[3]\n",
    "    \n",
    "    if counter==1:\n",
    "        print(\"There was\", counter, \"version of\", app_name)\n",
    "        print(\"and it has\", ratings ,\"ratings, as expected!\")\n",
    "    elif counter>1:\n",
    "        print(\"There were\", counter, \"versions of\", app_name)\n",
    "    else: \n",
    "        print(\"Doesn't seem like\", app_name, \"exists!\")\n",
    "\n",
    "\n",
    "check_duplicate(android_clean, \"Instagram\")\n",
    "        "
   ]
  },
  {
   "cell_type": "markdown",
   "metadata": {},
   "source": [
    "### Cleaning iOS Duplicates"
   ]
  },
  {
   "cell_type": "code",
   "execution_count": 50,
   "metadata": {
    "collapsed": false
   },
   "outputs": [
    {
     "name": "stdout",
     "output_type": "stream",
     "text": [
      "Number of duplicate apps: 0\n",
      "\n",
      "\n",
      "Expected length: 7197\n",
      "Actual length: 7197\n",
      "There are 7197 items in this clean set.\n"
     ]
    }
   ],
   "source": [
    "duplicate_apps=[]\n",
    "unique_apps=[]\n",
    "for app in ios:\n",
    "    name = app[0]\n",
    "    if name in unique_apps:\n",
    "        duplicate_apps.append(name)\n",
    "    else:\n",
    "        unique_apps.append(name)\n",
    "\n",
    "print(\"Number of duplicate apps:\", len(duplicate_apps))\n",
    "print(\"\\n\")\n",
    "\n",
    "reviews_max = {}\n",
    "for app in ios:\n",
    "    name = app[0]\n",
    "    n_reviews = float(app[5])\n",
    "    \n",
    "    if name in reviews_max and n_reviews > reviews_max[name]:\n",
    "        reviews_max[name]=n_reviews\n",
    "        \n",
    "    elif name not in reviews_max:\n",
    "        reviews_max[name]=n_reviews\n",
    "        \n",
    "print('Expected length:', len(ios))\n",
    "print('Actual length:', len(reviews_max))\n",
    "\n",
    "ios_clean=[] # stores our new clean data set\n",
    "already_added=[] # stores only app names\n",
    "\n",
    "for app in ios:\n",
    "    name = app[0]\n",
    "    n_reviews = float(app[5])\n",
    "    if n_reviews == reviews_max[name] and name not in already_added:\n",
    "        ios_clean.append(app)\n",
    "        already_added.append(name)\n",
    "         \n",
    "print(\"There are\", len(ios_clean), \"items in this clean set.\")\n",
    "\n"
   ]
  },
  {
   "cell_type": "markdown",
   "metadata": {},
   "source": [
    "Above we produced a new set of clean data called `android_clean` and we ensured it was indeed clean by firstly comparing the size of the data set with the expected size we worked out ealier. \n",
    "Secondly we have used a function called `check_duplicate` that simplifies a quick check of a specific app and the number of duplicates. \n",
    "We ran this for \"Instagram\" as we did earlier and there was indeed 1 version. And finally the version we have is the one with the largest number of reviews. "
   ]
  },
  {
   "cell_type": "markdown",
   "metadata": {},
   "source": [
    "## Cleaning Non-English Apps\n",
    "\n",
    "We only produce english apps and so we must clean non english apps from the set. \n",
    "\n",
    "We can use ASCII and string indexing to sort thorugh our app names and start to clean up further. "
   ]
  },
  {
   "cell_type": "code",
   "execution_count": 51,
   "metadata": {
    "collapsed": false
   },
   "outputs": [
    {
     "name": "stdout",
     "output_type": "stream",
     "text": [
      "1\n",
      "Instachat 😜 is likely an english app\n",
      "13\n",
      "爱奇艺PPS -《欢乐颂2》电视剧热播 is likely a foreing app\n"
     ]
    }
   ],
   "source": [
    "def is_english(app):\n",
    "    name=str(app)\n",
    "    counter=0\n",
    "    for character in name:\n",
    "        if ord(character)>127:\n",
    "            counter+=1\n",
    "\n",
    "    print(counter)\n",
    "                \n",
    "    if counter<4:\n",
    "        print(app, \"is likely an english app\")\n",
    "    else: \n",
    "        print(app, \"is likely a foreing app\")\n",
    "\n",
    "is_english('Instachat 😜') \n",
    "is_english('爱奇艺PPS -《欢乐颂2》电视剧热播') "
   ]
  },
  {
   "cell_type": "code",
   "execution_count": 73,
   "metadata": {
    "collapsed": false
   },
   "outputs": [
    {
     "name": "stdout",
     "output_type": "stream",
     "text": [
      "1\n",
      "Docs To Go™ Free Office Suite is likely an english app\n",
      "None\n",
      "1\n",
      "Instachat 😜 is likely an english app\n",
      "None\n",
      "4\n",
      "Instachat 😜😜😜😜 is likely a foreing app\n",
      "None\n",
      "8482\n",
      "128540\n"
     ]
    }
   ],
   "source": [
    "print(is_english('Docs To Go™ Free Office Suite'))\n",
    "print(is_english('Instachat 😜'))\n",
    "print(is_english('Instachat 😜😜😜😜'))\n",
    "print(ord('™'))\n",
    "print(ord('😜'))"
   ]
  },
  {
   "cell_type": "markdown",
   "metadata": {},
   "source": [
    "This method of course is far from fullproof. As we can see above."
   ]
  },
  {
   "cell_type": "markdown",
   "metadata": {},
   "source": [
    "### It's time to clean the data for non-english\n",
    "\n",
    "We will use an adapted versionof the `is_english` function to clean our data set further."
   ]
  },
  {
   "cell_type": "code",
   "execution_count": 52,
   "metadata": {
    "collapsed": true
   },
   "outputs": [],
   "source": [
    "def clean_english(data_set, threshold):\n",
    "    \n",
    "    clean_english_set=[]\n",
    "    names=[]\n",
    "    \n",
    "    for app in data_set:\n",
    "        name=str(app[0])\n",
    "        counter=0\n",
    "        for character in name:\n",
    "            if ord(character)>127:\n",
    "                counter+=1\n",
    "        if counter < threshold:\n",
    "            clean_english_set.append(app)\n",
    "            names.append(name)\n",
    "    \n",
    "    return clean_english_set, names"
   ]
  },
  {
   "cell_type": "markdown",
   "metadata": {},
   "source": [
    "### Cleaning Android English"
   ]
  },
  {
   "cell_type": "code",
   "execution_count": 53,
   "metadata": {
    "collapsed": false
   },
   "outputs": [
    {
     "name": "stdout",
     "output_type": "stream",
     "text": [
      "There are 9614 rows in this cleaned set.\n",
      "['Photo Editor & Candy Camera & Grid & ScrapBook', 'U Launcher Lite – FREE Live Cool Themes, Hide Apps', 'Sketch - Draw & Paint', 'Pixel Draw - Number Art Coloring Book', 'Paper flowers instructions', 'Smoke Effect Photo Maker - Smoke Editor', 'Infinite Painter', 'Garden Coloring Book', 'Kids Paint Free - Drawing Fun', 'Text on Photo - Fonteee', 'Name Art Photo Editor - Focus n Filters', 'Tattoo Name On My Photo Editor', 'Mandala Coloring Book', '3D Color Pixel by Number - Sandbox Art Coloring', 'Learn To Draw Kawaii Characters', 'Photo Designer - Write your name with shapes', '350 Diy Room Decor Ideas', 'FlipaClip - Cartoon animation', 'ibis Paint X', 'Logo Maker - Small Business', \"Boys Photo Editor - Six Pack & Men's Suit\", 'Superheroes Wallpapers | 4K Backgrounds', 'HD Mickey Minnie Wallpapers', 'Harley Quinn wallpapers HD', 'Colorfit - Drawing & Coloring', 'Animated Photo Editor', 'Pencil Sketch Drawing', 'Easy Realistic Drawing Tutorial', 'Pink Silver Bow Keyboard Theme', 'Art Drawing Ideas']\n"
     ]
    }
   ],
   "source": [
    "clean_english_android , names = clean_english(android_clean, 4)\n",
    "\n",
    "print(\"There are\", len(clean_english_android), \"rows in this cleaned set.\")\n",
    "print(names[:30])\n",
    "\n"
   ]
  },
  {
   "cell_type": "markdown",
   "metadata": {},
   "source": [
    "### Cleaning iOS English"
   ]
  },
  {
   "cell_type": "code",
   "execution_count": 54,
   "metadata": {
    "collapsed": false
   },
   "outputs": [
    {
     "name": "stdout",
     "output_type": "stream",
     "text": [
      "There are 7197 rows in this cleaned set.\n",
      "['284882215', '389801252', '529479190', '420009108', '284035177', '429047995', '282935706', '553834731', '324684580', '343200656', '512939461', '362949845', '359917414', '469369175', '924373886', '575658129', '506627515', '500116670', '479516143', '293778748', '341232718', '440045374', '295646461', '487119327', '284815942', '596402997', '466965151', '293622097', '350642635', '582654048']\n"
     ]
    }
   ],
   "source": [
    "clean_english_ios , names = clean_english(ios_clean, 4)\n",
    "\n",
    "print(\"There are\", len(clean_english_ios), \"rows in this cleaned set.\")\n",
    "print(names[:30])\n",
    "\n"
   ]
  },
  {
   "cell_type": "markdown",
   "metadata": {},
   "source": [
    "### It's time to remove free apps\n",
    "\n",
    "We are only looking for free apps becuase we only develop free apps. We make revenu from in app advertising. "
   ]
  },
  {
   "cell_type": "code",
   "execution_count": 55,
   "metadata": {
    "collapsed": false
   },
   "outputs": [],
   "source": [
    "def clean_free(data_set, index, free):\n",
    "    clean_free_set=[]\n",
    "    for app in data_set:\n",
    "        if app[index]==free:\n",
    "            clean_free_set.append(app)\n",
    "    return clean_free_set"
   ]
  },
  {
   "cell_type": "markdown",
   "metadata": {},
   "source": [
    "### Clean Free Android"
   ]
  },
  {
   "cell_type": "code",
   "execution_count": 56,
   "metadata": {
    "collapsed": false,
    "scrolled": true
   },
   "outputs": [
    {
     "name": "stdout",
     "output_type": "stream",
     "text": [
      "There are 8863 free, english apps in the Google play store.\n",
      "\n",
      "\n",
      "[['Photo Editor & Candy Camera & Grid & ScrapBook', 'ART_AND_DESIGN', '4.1', '159', '19M', '10,000+', 'Free', '0', 'Everyone', 'Art & Design', 'January 7, 2018', '1.0.0', '4.0.3 and up'], ['U Launcher Lite – FREE Live Cool Themes, Hide Apps', 'ART_AND_DESIGN', '4.7', '87510', '8.7M', '5,000,000+', 'Free', '0', 'Everyone', 'Art & Design', 'August 1, 2018', '1.2.4', '4.0.3 and up'], ['Sketch - Draw & Paint', 'ART_AND_DESIGN', '4.5', '215644', '25M', '50,000,000+', 'Free', '0', 'Teen', 'Art & Design', 'June 8, 2018', 'Varies with device', '4.2 and up']]\n"
     ]
    }
   ],
   "source": [
    "clean_free_android=clean_free(clean_english_android,6,\"Free\")\n",
    "android_final=clean_free_android\n",
    "print(\"There are\", len(clean_free_android), \"free, english apps in the Google play store.\")\n",
    "print(\"\\n\")\n",
    "print(clean_free_android[:3])"
   ]
  },
  {
   "cell_type": "markdown",
   "metadata": {},
   "source": [
    "### Clean Free iOS"
   ]
  },
  {
   "cell_type": "code",
   "execution_count": 57,
   "metadata": {
    "collapsed": false
   },
   "outputs": [
    {
     "name": "stdout",
     "output_type": "stream",
     "text": [
      "There are 4056 free, english apps in the Apple store.\n",
      "\n",
      "\n",
      "[['284882215', 'Facebook', '389879808', 'USD', '0.0', '2974676', '212', '3.5', '3.5', '95.0', '4+', 'Social Networking', '37', '1', '29', '1'], ['389801252', 'Instagram', '113954816', 'USD', '0.0', '2161558', '1289', '4.5', '4.0', '10.23', '12+', 'Photo & Video', '37', '0', '29', '1'], ['529479190', 'Clash of Clans', '116476928', 'USD', '0.0', '2130805', '579', '4.5', '4.5', '9.24.12', '9+', 'Games', '38', '5', '18', '1']]\n"
     ]
    }
   ],
   "source": [
    "clean_free_ios=clean_free(clean_english_ios,index=4,free='0.0') # index for price is 4\n",
    "ios_final=clean_free_ios\n",
    "print(\"There are\", len(clean_free_ios), \"free, english apps in the Apple store.\")\n",
    "print(\"\\n\")\n",
    "print(clean_free_ios[:3])"
   ]
  },
  {
   "cell_type": "markdown",
   "metadata": {},
   "source": [
    "# Section 3: Analysis\n",
    "\n",
    "So far we have:\n",
    "- Removed inaccurate data\n",
    "- Removed duplicate app entries\n",
    "- Removed non-English apps\n",
    "- Isolated the free apps\n",
    "\n",
    "Because our end goal is to add the app on both the App Store and Google Play, we need to find app profiles that are successful on both markets. For instance, a profile that might work well for both markets might be a productivity app that makes use of gamification.\n",
    "\n",
    "Let's begin the analysis by getting a sense of what are the most common genres for each market. For this, we'll need to build frequency tables for a few columns in our data sets.\n",
    "\n",
    "## We need to perform preliminary analysis to see which columns are ideal for frequency tables.\n",
    "\n",
    "We will do this by looping through each column and finding out how many variations of the result there are.\n",
    "\n"
   ]
  },
  {
   "cell_type": "code",
   "execution_count": 58,
   "metadata": {
    "collapsed": false
   },
   "outputs": [],
   "source": [
    "def freq_table(dataset, index):\n",
    "    freq={}\n",
    "    length=len(dataset)\n",
    "    for app in dataset:\n",
    "        name=app[index]\n",
    "        if name in freq:\n",
    "            freq[name]+=1\n",
    "        else:\n",
    "            freq[name]=1  \n",
    "            \n",
    "    for item in freq:\n",
    "        freq[item]= round(float(freq[item]/length*100),2)\n",
    "    \n",
    "    return freq\n",
    "\n",
    "def display_table(dataset, index):\n",
    "    table = freq_table(dataset, index)\n",
    "    table_display = []\n",
    "    for key in table:\n",
    "        key_val_as_tuple = (table[key], key)\n",
    "        table_display.append(key_val_as_tuple)\n",
    "\n",
    "    table_sorted = sorted(table_display, reverse = True)\n",
    "    for entry in table_sorted:\n",
    "        print(entry[1], ':', entry[0])  \n",
    "             "
   ]
  },
  {
   "cell_type": "markdown",
   "metadata": {},
   "source": [
    "## Most Popular Google Play Genres\n",
    "***\n",
    "There are dozens of genres in the Google Play library. However the Family genre is by far the most common followes by Game and Tools After Tools, the genres are all below 5%. "
   ]
  },
  {
   "cell_type": "code",
   "execution_count": 59,
   "metadata": {
    "collapsed": false,
    "scrolled": true
   },
   "outputs": [
    {
     "name": "stdout",
     "output_type": "stream",
     "text": [
      "FAMILY : 18.9\n",
      "GAME : 9.73\n",
      "TOOLS : 8.46\n",
      "BUSINESS : 4.59\n",
      "LIFESTYLE : 3.9\n",
      "PRODUCTIVITY : 3.89\n",
      "FINANCE : 3.7\n",
      "MEDICAL : 3.53\n",
      "SPORTS : 3.4\n",
      "PERSONALIZATION : 3.32\n",
      "COMMUNICATION : 3.24\n",
      "HEALTH_AND_FITNESS : 3.08\n",
      "PHOTOGRAPHY : 2.94\n",
      "NEWS_AND_MAGAZINES : 2.8\n",
      "SOCIAL : 2.66\n",
      "TRAVEL_AND_LOCAL : 2.34\n",
      "SHOPPING : 2.25\n",
      "BOOKS_AND_REFERENCE : 2.14\n",
      "DATING : 1.86\n",
      "VIDEO_PLAYERS : 1.79\n",
      "MAPS_AND_NAVIGATION : 1.4\n",
      "FOOD_AND_DRINK : 1.24\n",
      "EDUCATION : 1.16\n",
      "ENTERTAINMENT : 0.96\n",
      "LIBRARIES_AND_DEMO : 0.94\n",
      "AUTO_AND_VEHICLES : 0.93\n",
      "HOUSE_AND_HOME : 0.82\n",
      "WEATHER : 0.8\n",
      "EVENTS : 0.71\n",
      "PARENTING : 0.65\n",
      "ART_AND_DESIGN : 0.64\n",
      "COMICS : 0.62\n",
      "BEAUTY : 0.6\n"
     ]
    }
   ],
   "source": [
    "display_table(clean_free_android,1) #Genre"
   ]
  },
  {
   "cell_type": "markdown",
   "metadata": {},
   "source": [
    "## Most Popular Google Play Categories\n",
    "***\n",
    "Once again the distribution of Categories is quite even. However only Tools, Entertainment, Education are categories with over 5%. \n",
    "\n",
    "There is a clear desire for apps to be immediately useful, as in they are often needed to function as a tool. Not only in the Tool category but Educatio"
   ]
  },
  {
   "cell_type": "code",
   "execution_count": 60,
   "metadata": {
    "collapsed": false,
    "scrolled": false
   },
   "outputs": [
    {
     "name": "stdout",
     "output_type": "stream",
     "text": [
      "Tools : 8.45\n",
      "Entertainment : 6.07\n",
      "Education : 5.35\n",
      "Business : 4.59\n",
      "Productivity : 3.89\n",
      "Lifestyle : 3.89\n",
      "Finance : 3.7\n",
      "Medical : 3.53\n",
      "Sports : 3.46\n",
      "Personalization : 3.32\n",
      "Communication : 3.24\n",
      "Action : 3.1\n",
      "Health & Fitness : 3.08\n",
      "Photography : 2.94\n",
      "News & Magazines : 2.8\n",
      "Social : 2.66\n",
      "Travel & Local : 2.32\n",
      "Shopping : 2.25\n",
      "Books & Reference : 2.14\n",
      "Simulation : 2.04\n",
      "Dating : 1.86\n",
      "Arcade : 1.85\n",
      "Video Players & Editors : 1.77\n",
      "Casual : 1.76\n",
      "Maps & Navigation : 1.4\n",
      "Food & Drink : 1.24\n",
      "Puzzle : 1.13\n",
      "Racing : 0.99\n",
      "Role Playing : 0.94\n",
      "Libraries & Demo : 0.94\n",
      "Auto & Vehicles : 0.93\n",
      "Strategy : 0.9\n",
      "House & Home : 0.82\n",
      "Weather : 0.8\n",
      "Events : 0.71\n",
      "Adventure : 0.68\n",
      "Comics : 0.61\n",
      "Beauty : 0.6\n",
      "Art & Design : 0.6\n",
      "Parenting : 0.5\n",
      "Card : 0.45\n",
      "Casino : 0.43\n",
      "Trivia : 0.42\n",
      "Educational;Education : 0.39\n",
      "Board : 0.38\n",
      "Educational : 0.37\n",
      "Education;Education : 0.34\n",
      "Word : 0.26\n",
      "Casual;Pretend Play : 0.24\n",
      "Music : 0.2\n",
      "Racing;Action & Adventure : 0.17\n",
      "Puzzle;Brain Games : 0.17\n",
      "Entertainment;Music & Video : 0.17\n",
      "Casual;Brain Games : 0.14\n",
      "Casual;Action & Adventure : 0.14\n",
      "Arcade;Action & Adventure : 0.12\n",
      "Action;Action & Adventure : 0.1\n",
      "Educational;Pretend Play : 0.09\n",
      "Simulation;Action & Adventure : 0.08\n",
      "Parenting;Education : 0.08\n",
      "Entertainment;Brain Games : 0.08\n",
      "Board;Brain Games : 0.08\n",
      "Parenting;Music & Video : 0.07\n",
      "Educational;Brain Games : 0.07\n",
      "Casual;Creativity : 0.07\n",
      "Art & Design;Creativity : 0.07\n",
      "Education;Pretend Play : 0.06\n",
      "Role Playing;Pretend Play : 0.05\n",
      "Education;Creativity : 0.05\n",
      "Role Playing;Action & Adventure : 0.03\n",
      "Puzzle;Action & Adventure : 0.03\n",
      "Entertainment;Creativity : 0.03\n",
      "Entertainment;Action & Adventure : 0.03\n",
      "Educational;Creativity : 0.03\n",
      "Educational;Action & Adventure : 0.03\n",
      "Education;Music & Video : 0.03\n",
      "Education;Brain Games : 0.03\n",
      "Education;Action & Adventure : 0.03\n",
      "Adventure;Action & Adventure : 0.03\n",
      "Video Players & Editors;Music & Video : 0.02\n",
      "Sports;Action & Adventure : 0.02\n",
      "Simulation;Pretend Play : 0.02\n",
      "Puzzle;Creativity : 0.02\n",
      "Music;Music & Video : 0.02\n",
      "Entertainment;Pretend Play : 0.02\n",
      "Casual;Education : 0.02\n",
      "Board;Action & Adventure : 0.02\n",
      "Video Players & Editors;Creativity : 0.01\n",
      "Trivia;Education : 0.01\n",
      "Travel & Local;Action & Adventure : 0.01\n",
      "Tools;Education : 0.01\n",
      "Strategy;Education : 0.01\n",
      "Strategy;Creativity : 0.01\n",
      "Strategy;Action & Adventure : 0.01\n",
      "Simulation;Education : 0.01\n",
      "Role Playing;Brain Games : 0.01\n",
      "Racing;Pretend Play : 0.01\n",
      "Puzzle;Education : 0.01\n",
      "Parenting;Brain Games : 0.01\n",
      "Music & Audio;Music & Video : 0.01\n",
      "Lifestyle;Pretend Play : 0.01\n",
      "Lifestyle;Education : 0.01\n",
      "Health & Fitness;Education : 0.01\n",
      "Health & Fitness;Action & Adventure : 0.01\n",
      "Entertainment;Education : 0.01\n",
      "Communication;Creativity : 0.01\n",
      "Comics;Creativity : 0.01\n",
      "Casual;Music & Video : 0.01\n",
      "Card;Action & Adventure : 0.01\n",
      "Books & Reference;Education : 0.01\n",
      "Art & Design;Pretend Play : 0.01\n",
      "Art & Design;Action & Adventure : 0.01\n",
      "Arcade;Pretend Play : 0.01\n",
      "Adventure;Education : 0.01\n"
     ]
    }
   ],
   "source": [
    "display_table(clean_free_android,9) #Category"
   ]
  },
  {
   "cell_type": "markdown",
   "metadata": {},
   "source": [
    "## Most Popular Google Play Prime Genres\n",
    "***\n",
    "In this case there is a clear sense that most free english apps are designed for all age ranges. Indeed 81.44% of all the apps we analysed are for everyone. And only a tiny fraction of apps in our set are designed for ages 18+."
   ]
  },
  {
   "cell_type": "code",
   "execution_count": 61,
   "metadata": {
    "collapsed": false
   },
   "outputs": [
    {
     "name": "stdout",
     "output_type": "stream",
     "text": [
      "Everyone : 81.44\n",
      "Teen : 11.06\n",
      "Mature 17+ : 4.19\n",
      "Everyone 10+ : 3.26\n",
      "Adults only 18+ : 0.03\n",
      "Unrated : 0.02\n"
     ]
    }
   ],
   "source": [
    "display_table(clean_free_android,8) #age_range"
   ]
  },
  {
   "cell_type": "markdown",
   "metadata": {
    "collapsed": true
   },
   "source": [
    "### Most Popular Apple Store Genre"
   ]
  },
  {
   "cell_type": "code",
   "execution_count": 62,
   "metadata": {
    "collapsed": false
   },
   "outputs": [
    {
     "name": "stdout",
     "output_type": "stream",
     "text": [
      "Games : 55.65\n",
      "Entertainment : 8.23\n",
      "Photo & Video : 4.12\n",
      "Social Networking : 3.53\n",
      "Education : 3.25\n",
      "Shopping : 2.98\n",
      "Utilities : 2.69\n",
      "Lifestyle : 2.32\n",
      "Finance : 2.07\n",
      "Sports : 1.95\n",
      "Health & Fitness : 1.87\n",
      "Music : 1.65\n",
      "Book : 1.63\n",
      "Productivity : 1.53\n",
      "News : 1.43\n",
      "Travel : 1.38\n",
      "Food & Drink : 1.06\n",
      "Weather : 0.76\n",
      "Reference : 0.49\n",
      "Navigation : 0.49\n",
      "Business : 0.49\n",
      "Catalogs : 0.22\n",
      "Medical : 0.2\n"
     ]
    }
   ],
   "source": [
    "display_table(clean_free_ios,11) #prime_genre"
   ]
  },
  {
   "cell_type": "markdown",
   "metadata": {},
   "source": [
    "Interestingly here the majority of all free english apps in the apple store are games. The second largest group which is only about a 7th the size of Games, is Entertainment. "
   ]
  },
  {
   "cell_type": "markdown",
   "metadata": {},
   "source": [
    "### Analsysis Comparison Regarding Genre:\n",
    "Games vs tools. However the clear differentiator in the app store with games being such a clear majority is also a stark difference the more evenly distributed genres of the Google Play store. "
   ]
  },
  {
   "cell_type": "markdown",
   "metadata": {},
   "source": [
    "## Further Genre Analysis\n",
    "One way to find out what genres are the most popular (have the most users) is to calculate the average number of installs for each app genre. For the Google Play data set, we can find this information in the Installs column, but this information is missing for the App Store data set. As a workaround, we'll take the total number of user ratings as a proxy, which we can find in the rating_count_tot app."
   ]
  },
  {
   "cell_type": "code",
   "execution_count": 63,
   "metadata": {
    "collapsed": false
   },
   "outputs": [
    {
     "name": "stdout",
     "output_type": "stream",
     "text": [
      "500000000.0\n",
      "<class 'float'>\n"
     ]
    }
   ],
   "source": [
    "def convert_str_to_float(string):\n",
    "    string=string.replace('+','')\n",
    "    string=string.replace(',','')\n",
    "    number=float(string)\n",
    "    return number\n",
    "\n",
    "number=convert_str_to_float('500,000,000+')\n",
    "print(number)\n",
    "print(type(number))"
   ]
  },
  {
   "cell_type": "code",
   "execution_count": 64,
   "metadata": {
    "collapsed": false
   },
   "outputs": [],
   "source": [
    "def avg_install_genre(freq_table, dataset, genre_index, install_index):\n",
    "    for genre in freq_table:\n",
    "        total=0\n",
    "        len_genre=0\n",
    "        for app in dataset:\n",
    "            genre_app=app[genre_index] #index for genre\n",
    "            if type(app[install_index])==str:\n",
    "                n_ratings=convert_str_to_float(app[install_index])\n",
    "            n_ratings=float(n_ratings) #index is for number of ratings\n",
    "            if genre_app==genre:\n",
    "                len_genre+=1\n",
    "                total+=n_ratings\n",
    "        avg_rating=round(total/len_genre)\n",
    "        print(genre)\n",
    "        #print(total)\n",
    "        print(avg_rating)\n",
    "        print('\\n')"
   ]
  },
  {
   "cell_type": "markdown",
   "metadata": {},
   "source": [
    "## Rating By Genre Analysis for iOS\n",
    "\n",
    "Social Networks, Reference and Music top this analysis with over 50,000 rating each. There are big players in each of there genres that have massive advantages and win most of the reviews. \n",
    "\n",
    "Our recommendation would be to isolate a genre that is currently not booming but yet is not heavily sidelined. It may have some potential to boom and the competition in the space is less aggressive and suseptible to new entrants. \n",
    "\n",
    "Perhaps Travel is a ripe for new entrants. With only 1.38% of apps and yet a healthy portion of reviews it is a vibrant area. The dominant player is AirBnb which is losing some of its shine as it grows. This makes it an exciting area to get into, however there are significant obstacles. It is a huge market and there is lots of competition. However compared with the aforementioned highly popular genres it is a better bet with a huge upside and strong momentum. Furthermore a travel app can easily be designed to tap into the \"family\" category that we have found to be pervasive. "
   ]
  },
  {
   "cell_type": "code",
   "execution_count": 65,
   "metadata": {
    "collapsed": false
   },
   "outputs": [
    {
     "name": "stdout",
     "output_type": "stream",
     "text": [
      "Education\n",
      "6266\n",
      "\n",
      "\n",
      "Reference\n",
      "67448\n",
      "\n",
      "\n",
      "Lifestyle\n",
      "8978\n",
      "\n",
      "\n",
      "Navigation\n",
      "25972\n",
      "\n",
      "\n",
      "Games\n",
      "18925\n",
      "\n",
      "\n",
      "Finance\n",
      "13522\n",
      "\n",
      "\n",
      "Productivity\n",
      "19054\n",
      "\n",
      "\n",
      "Sports\n",
      "20129\n",
      "\n",
      "\n",
      "Health & Fitness\n",
      "19952\n",
      "\n",
      "\n",
      "Entertainment\n",
      "10823\n",
      "\n",
      "\n",
      "Shopping\n",
      "18747\n",
      "\n",
      "\n",
      "Photo & Video\n",
      "27250\n",
      "\n",
      "\n",
      "Utilities\n",
      "14010\n",
      "\n",
      "\n",
      "Book\n",
      "8498\n",
      "\n",
      "\n",
      "Food & Drink\n",
      "20179\n",
      "\n",
      "\n",
      "Weather\n",
      "47221\n",
      "\n",
      "\n",
      "News\n",
      "15893\n",
      "\n",
      "\n",
      "Medical\n",
      "460\n",
      "\n",
      "\n",
      "Business\n",
      "6368\n",
      "\n",
      "\n",
      "Music\n",
      "56482\n",
      "\n",
      "\n",
      "Social Networking\n",
      "53078\n",
      "\n",
      "\n",
      "Travel\n",
      "20216\n",
      "\n",
      "\n",
      "Catalogs\n",
      "1780\n",
      "\n",
      "\n"
     ]
    }
   ],
   "source": [
    "genre_freq_ios=freq_table(clean_free_ios, 11)\n",
    "\n",
    "avg_install_genre(genre_freq_ios, clean_free_ios,11, 5)"
   ]
  },
  {
   "cell_type": "markdown",
   "metadata": {},
   "source": [
    "## Rating By Genre Analysis for Android\n",
    "\n",
    "Here we will use intalls rather than ratings to gague popularity. However wee need to clean the install column. As you can see below, strings are used and they are not precise. \n",
    "\n",
    "We want to convert these to floats so we can order and manipulate them."
   ]
  },
  {
   "cell_type": "code",
   "execution_count": 66,
   "metadata": {
    "collapsed": false
   },
   "outputs": [
    {
     "name": "stdout",
     "output_type": "stream",
     "text": [
      "1,000,000+ : 15.73\n",
      "100,000+ : 11.55\n",
      "10,000,000+ : 10.55\n",
      "10,000+ : 10.2\n",
      "1,000+ : 8.39\n",
      "100+ : 6.92\n",
      "5,000,000+ : 6.83\n",
      "500,000+ : 5.56\n",
      "50,000+ : 4.77\n",
      "5,000+ : 4.51\n",
      "10+ : 3.54\n",
      "500+ : 3.25\n",
      "50,000,000+ : 2.3\n",
      "100,000,000+ : 2.13\n",
      "50+ : 1.92\n",
      "5+ : 0.79\n",
      "1+ : 0.51\n",
      "500,000,000+ : 0.27\n",
      "1,000,000,000+ : 0.23\n",
      "0+ : 0.05\n"
     ]
    }
   ],
   "source": [
    "display_table(android_final,5) #Installs"
   ]
  },
  {
   "cell_type": "markdown",
   "metadata": {},
   "source": [
    "### Andrid Popularity by Category"
   ]
  },
  {
   "cell_type": "code",
   "execution_count": 67,
   "metadata": {
    "collapsed": false
   },
   "outputs": [
    {
     "name": "stdout",
     "output_type": "stream",
     "text": [
      "EVENTS\n",
      "253542\n",
      "\n",
      "\n",
      "TOOLS\n",
      "10801391\n",
      "\n",
      "\n",
      "PARENTING\n",
      "542604\n",
      "\n",
      "\n",
      "BOOKS_AND_REFERENCE\n",
      "8767812\n",
      "\n",
      "\n",
      "COMMUNICATION\n",
      "38456119\n",
      "\n",
      "\n",
      "SOCIAL\n",
      "23253652\n",
      "\n",
      "\n",
      "HEALTH_AND_FITNESS\n",
      "4188822\n",
      "\n",
      "\n",
      "MEDICAL\n",
      "120551\n",
      "\n",
      "\n",
      "AUTO_AND_VEHICLES\n",
      "647318\n",
      "\n",
      "\n",
      "FOOD_AND_DRINK\n",
      "1924898\n",
      "\n",
      "\n",
      "SPORTS\n",
      "3638640\n",
      "\n",
      "\n",
      "DATING\n",
      "854029\n",
      "\n",
      "\n",
      "ENTERTAINMENT\n",
      "11640706\n",
      "\n",
      "\n",
      "VIDEO_PLAYERS\n",
      "24727872\n",
      "\n",
      "\n",
      "WEATHER\n",
      "5074486\n",
      "\n",
      "\n",
      "SHOPPING\n",
      "7036877\n",
      "\n",
      "\n",
      "BUSINESS\n",
      "1712290\n",
      "\n",
      "\n",
      "EDUCATION\n",
      "1833495\n",
      "\n",
      "\n",
      "BEAUTY\n",
      "513152\n",
      "\n",
      "\n",
      "LIFESTYLE\n",
      "1437816\n",
      "\n",
      "\n",
      "GAME\n",
      "15588016\n",
      "\n",
      "\n",
      "COMICS\n",
      "817657\n",
      "\n",
      "\n",
      "FAMILY\n",
      "3697848\n",
      "\n",
      "\n",
      "TRAVEL_AND_LOCAL\n",
      "13984078\n",
      "\n",
      "\n",
      "HOUSE_AND_HOME\n",
      "1331541\n",
      "\n",
      "\n",
      "ART_AND_DESIGN\n",
      "1986335\n",
      "\n",
      "\n",
      "FINANCE\n",
      "1387692\n",
      "\n",
      "\n",
      "PHOTOGRAPHY\n",
      "17840110\n",
      "\n",
      "\n",
      "PRODUCTIVITY\n",
      "16787331\n",
      "\n",
      "\n",
      "LIBRARIES_AND_DEMO\n",
      "638504\n",
      "\n",
      "\n",
      "NEWS_AND_MAGAZINES\n",
      "9549178\n",
      "\n",
      "\n",
      "MAPS_AND_NAVIGATION\n",
      "4056942\n",
      "\n",
      "\n",
      "PERSONALIZATION\n",
      "5201483\n",
      "\n",
      "\n"
     ]
    }
   ],
   "source": [
    "genre_freq_android=freq_table(android_final, 1) #\n",
    "\n",
    "avg_install_genre(genre_freq_android, android_final,1, 5) #"
   ]
  },
  {
   "cell_type": "markdown",
   "metadata": {},
   "source": [
    "### Andrid Popularity by Genre"
   ]
  },
  {
   "cell_type": "code",
   "execution_count": 68,
   "metadata": {
    "collapsed": false
   },
   "outputs": [
    {
     "name": "stdout",
     "output_type": "stream",
     "text": [
      "News & Magazines\n",
      "9549178\n",
      "\n",
      "\n",
      "Card\n",
      "3815462\n",
      "\n",
      "\n",
      "Beauty\n",
      "513152\n",
      "\n",
      "\n",
      "Educational;Creativity\n",
      "2333333\n",
      "\n",
      "\n",
      "Strategy;Action & Adventure\n",
      "1000000\n",
      "\n",
      "\n",
      "Strategy;Creativity\n",
      "1000000\n",
      "\n",
      "\n",
      "Adventure;Action & Adventure\n",
      "35333333\n",
      "\n",
      "\n",
      "Dating\n",
      "854029\n",
      "\n",
      "\n",
      "Education;Education\n",
      "4759517\n",
      "\n",
      "\n",
      "Business\n",
      "1712290\n",
      "\n",
      "\n",
      "Casual;Music & Video\n",
      "10000000\n",
      "\n",
      "\n",
      "Puzzle;Creativity\n",
      "750000\n",
      "\n",
      "\n",
      "Puzzle;Education\n",
      "100000\n",
      "\n",
      "\n",
      "Strategy;Education\n",
      "500000\n",
      "\n",
      "\n",
      "Maps & Navigation\n",
      "4056942\n",
      "\n",
      "\n",
      "Lifestyle;Education\n",
      "100000\n",
      "\n",
      "\n",
      "Educational;Pretend Play\n",
      "9375000\n",
      "\n",
      "\n",
      "Books & Reference;Education\n",
      "1000\n",
      "\n",
      "\n",
      "Racing;Pretend Play\n",
      "1000000\n",
      "\n",
      "\n",
      "Board;Action & Adventure\n",
      "3000000\n",
      "\n",
      "\n",
      "Simulation;Action & Adventure\n",
      "4857143\n",
      "\n",
      "\n",
      "Adventure\n",
      "4922785\n",
      "\n",
      "\n",
      "Strategy\n",
      "11339901\n",
      "\n",
      "\n",
      "Arcade;Pretend Play\n",
      "1000000\n",
      "\n",
      "\n",
      "Music\n",
      "9445583\n",
      "\n",
      "\n",
      "Simulation;Education\n",
      "500\n",
      "\n",
      "\n",
      "Role Playing\n",
      "3965645\n",
      "\n",
      "\n",
      "Entertainment;Pretend Play\n",
      "3000000\n",
      "\n",
      "\n",
      "Board;Brain Games\n",
      "407143\n",
      "\n",
      "\n",
      "Education;Creativity\n",
      "2875000\n",
      "\n",
      "\n",
      "Casual\n",
      "19569222\n",
      "\n",
      "\n",
      "Action;Action & Adventure\n",
      "5888889\n",
      "\n",
      "\n",
      "Productivity\n",
      "16787331\n",
      "\n",
      "\n",
      "Educational;Action & Adventure\n",
      "17016667\n",
      "\n",
      "\n",
      "Travel & Local\n",
      "14051476\n",
      "\n",
      "\n",
      "Puzzle;Brain Games\n",
      "9280667\n",
      "\n",
      "\n",
      "Arcade;Action & Adventure\n",
      "3190909\n",
      "\n",
      "\n",
      "Racing\n",
      "15910646\n",
      "\n",
      "\n",
      "Personalization\n",
      "5201483\n",
      "\n",
      "\n",
      "Sports\n",
      "4596843\n",
      "\n",
      "\n",
      "Casual;Pretend Play\n",
      "6957143\n",
      "\n",
      "\n",
      "Arcade\n",
      "22888365\n",
      "\n",
      "\n",
      "Art & Design;Creativity\n",
      "285000\n",
      "\n",
      "\n",
      "Tools;Education\n",
      "10000000\n",
      "\n",
      "\n",
      "Health & Fitness;Education\n",
      "100000\n",
      "\n",
      "\n",
      "Card;Action & Adventure\n",
      "10000000\n",
      "\n",
      "\n",
      "Tools\n",
      "10802461\n",
      "\n",
      "\n",
      "Entertainment;Creativity\n",
      "4000000\n",
      "\n",
      "\n",
      "Racing;Action & Adventure\n",
      "8816667\n",
      "\n",
      "\n",
      "Action\n",
      "12603589\n",
      "\n",
      "\n",
      "Art & Design\n",
      "2122851\n",
      "\n",
      "\n",
      "Events\n",
      "253542\n",
      "\n",
      "\n",
      "Education\n",
      "550185\n",
      "\n",
      "\n",
      "Puzzle;Action & Adventure\n",
      "18366667\n",
      "\n",
      "\n",
      "Entertainment;Brain Games\n",
      "3314286\n",
      "\n",
      "\n",
      "Trivia;Education\n",
      "100\n",
      "\n",
      "\n",
      "Word\n",
      "9094459\n",
      "\n",
      "\n",
      "Board\n",
      "4759209\n",
      "\n",
      "\n",
      "Libraries & Demo\n",
      "638504\n",
      "\n",
      "\n",
      "Role Playing;Brain Games\n",
      "10000000\n",
      "\n",
      "\n",
      "Educational;Brain Games\n",
      "4433333\n",
      "\n",
      "\n",
      "Health & Fitness\n",
      "4188822\n",
      "\n",
      "\n",
      "Role Playing;Pretend Play\n",
      "5275000\n",
      "\n",
      "\n",
      "Adventure;Education\n",
      "10000000\n",
      "\n",
      "\n",
      "Lifestyle\n",
      "1412998\n",
      "\n",
      "\n",
      "Travel & Local;Action & Adventure\n",
      "100000\n",
      "\n",
      "\n",
      "Communication\n",
      "38456119\n",
      "\n",
      "\n",
      "Video Players & Editors\n",
      "24947336\n",
      "\n",
      "\n",
      "Art & Design;Pretend Play\n",
      "500000\n",
      "\n",
      "\n",
      "Role Playing;Action & Adventure\n",
      "7000000\n",
      "\n",
      "\n",
      "Video Players & Editors;Music & Video\n",
      "7500000\n",
      "\n",
      "\n",
      "Food & Drink\n",
      "1924898\n",
      "\n",
      "\n",
      "Casual;Creativity\n",
      "5333333\n",
      "\n",
      "\n",
      "Social\n",
      "23253652\n",
      "\n",
      "\n",
      "Weather\n",
      "5074486\n",
      "\n",
      "\n",
      "Education;Music & Video\n",
      "2033333\n",
      "\n",
      "\n",
      "Education;Brain Games\n",
      "5333333\n",
      "\n",
      "\n",
      "Parenting;Brain Games\n",
      "1000000\n",
      "\n",
      "\n",
      "Puzzle\n",
      "8302862\n",
      "\n",
      "\n",
      "Parenting;Music & Video\n",
      "1118333\n",
      "\n",
      "\n",
      "Parenting\n",
      "467978\n",
      "\n",
      "\n",
      "Education;Pretend Play\n",
      "1800000\n",
      "\n",
      "\n",
      "Music;Music & Video\n",
      "5050000\n",
      "\n",
      "\n",
      "Educational\n",
      "411185\n",
      "\n",
      "\n",
      "Entertainment;Action & Adventure\n",
      "2333333\n",
      "\n",
      "\n",
      "Comics\n",
      "831873\n",
      "\n",
      "\n",
      "Educational;Education\n",
      "1737143\n",
      "\n",
      "\n",
      "Finance\n",
      "1387692\n",
      "\n",
      "\n",
      "Simulation;Pretend Play\n",
      "550000\n",
      "\n",
      "\n",
      "Education;Action & Adventure\n",
      "1000000\n",
      "\n",
      "\n",
      "Lifestyle;Pretend Play\n",
      "10000000\n",
      "\n",
      "\n",
      "Entertainment;Music & Video\n",
      "6413333\n",
      "\n",
      "\n",
      "Music & Audio;Music & Video\n",
      "500000\n",
      "\n",
      "\n",
      "Entertainment\n",
      "5602793\n",
      "\n",
      "\n",
      "Simulation\n",
      "3475484\n",
      "\n",
      "\n",
      "Shopping\n",
      "7036877\n",
      "\n",
      "\n",
      "Casino\n",
      "3427911\n",
      "\n",
      "\n",
      "Casual;Education\n",
      "1000000\n",
      "\n",
      "\n",
      "Health & Fitness;Action & Adventure\n",
      "1000000\n",
      "\n",
      "\n",
      "Communication;Creativity\n",
      "500000\n",
      "\n",
      "\n",
      "Entertainment;Education\n",
      "1000000\n",
      "\n",
      "\n",
      "Sports;Action & Adventure\n",
      "5050000\n",
      "\n",
      "\n",
      "House & Home\n",
      "1331541\n",
      "\n",
      "\n",
      "Books & Reference\n",
      "8767812\n",
      "\n",
      "\n",
      "Casual;Action & Adventure\n",
      "12916667\n",
      "\n",
      "\n",
      "Photography\n",
      "17840110\n",
      "\n",
      "\n",
      "Video Players & Editors;Creativity\n",
      "5000000\n",
      "\n",
      "\n",
      "Art & Design;Action & Adventure\n",
      "100000\n",
      "\n",
      "\n",
      "Auto & Vehicles\n",
      "647318\n",
      "\n",
      "\n",
      "Comics;Creativity\n",
      "50000\n",
      "\n",
      "\n",
      "Casual;Brain Games\n",
      "1425917\n",
      "\n",
      "\n",
      "Trivia\n",
      "3475713\n",
      "\n",
      "\n",
      "Medical\n",
      "120551\n",
      "\n",
      "\n",
      "Parenting;Education\n",
      "452857\n",
      "\n",
      "\n"
     ]
    }
   ],
   "source": [
    "genre_freq_android=freq_table(android_final, 9) #\n",
    "\n",
    "avg_install_genre(genre_freq_android, android_final,9, 5) #"
   ]
  },
  {
   "cell_type": "markdown",
   "metadata": {},
   "source": [
    "# Section 4: Conclusion\n",
    "\n",
    "On average, communication apps have the most installs: 38,456,119. This number is heavily skewed up by a few apps that have over one billion installs (WhatsApp, Facebook Messenger, Skype, Google Chrome, Gmail, and Hangouts), and a few others with over 100 and 500 million installs:"
   ]
  },
  {
   "cell_type": "code",
   "execution_count": 69,
   "metadata": {
    "collapsed": false
   },
   "outputs": [
    {
     "name": "stdout",
     "output_type": "stream",
     "text": [
      "WhatsApp Messenger : 1,000,000,000+\n",
      "imo beta free calls and text : 100,000,000+\n",
      "Android Messages : 100,000,000+\n",
      "Google Duo - High Quality Video Calls : 500,000,000+\n",
      "Messenger – Text and Video Chat for Free : 1,000,000,000+\n",
      "imo free video calls and chat : 500,000,000+\n",
      "Skype - free IM & video calls : 1,000,000,000+\n",
      "Who : 100,000,000+\n",
      "GO SMS Pro - Messenger, Free Themes, Emoji : 100,000,000+\n",
      "LINE: Free Calls & Messages : 500,000,000+\n",
      "Google Chrome: Fast & Secure : 1,000,000,000+\n",
      "Firefox Browser fast & private : 100,000,000+\n",
      "UC Browser - Fast Download Private & Secure : 500,000,000+\n",
      "Gmail : 1,000,000,000+\n",
      "Hangouts : 1,000,000,000+\n",
      "Messenger Lite: Free Calls & Messages : 100,000,000+\n",
      "Kik : 100,000,000+\n",
      "KakaoTalk: Free Calls & Text : 100,000,000+\n",
      "Opera Mini - fast web browser : 100,000,000+\n",
      "Opera Browser: Fast and Secure : 100,000,000+\n",
      "Telegram : 100,000,000+\n",
      "Truecaller: Caller ID, SMS spam blocking & Dialer : 100,000,000+\n",
      "UC Browser Mini -Tiny Fast Private & Secure : 100,000,000+\n",
      "Viber Messenger : 500,000,000+\n",
      "WeChat : 100,000,000+\n",
      "Yahoo Mail – Stay Organized : 100,000,000+\n",
      "BBM - Free Calls & Messages : 100,000,000+\n"
     ]
    }
   ],
   "source": [
    "for app in android_final:\n",
    "    if app[1] == 'COMMUNICATION' and (app[5] == '1,000,000,000+'\n",
    "                                      or app[5] == '500,000,000+'\n",
    "                                      or app[5] == '100,000,000+'):\n",
    "        print(app[0], ':', app[5])"
   ]
  },
  {
   "cell_type": "code",
   "execution_count": 70,
   "metadata": {
    "collapsed": false
   },
   "outputs": [
    {
     "name": "stdout",
     "output_type": "stream",
     "text": [
      "Wikipedia : 10,000,000+\n",
      "Cool Reader : 10,000,000+\n",
      "Book store : 1,000,000+\n",
      "FBReader: Favorite Book Reader : 10,000,000+\n",
      "Free Books - Spirit Fanfiction and Stories : 1,000,000+\n",
      "AlReader -any text book reader : 5,000,000+\n",
      "FamilySearch Tree : 1,000,000+\n",
      "Cloud of Books : 1,000,000+\n",
      "ReadEra – free ebook reader : 1,000,000+\n",
      "Ebook Reader : 5,000,000+\n",
      "Read books online : 5,000,000+\n",
      "eBoox: book reader fb2 epub zip : 1,000,000+\n",
      "All Maths Formulas : 1,000,000+\n",
      "Ancestry : 5,000,000+\n",
      "HTC Help : 10,000,000+\n",
      "Moon+ Reader : 10,000,000+\n",
      "English-Myanmar Dictionary : 1,000,000+\n",
      "Golden Dictionary (EN-AR) : 1,000,000+\n",
      "All Language Translator Free : 1,000,000+\n",
      "Aldiko Book Reader : 10,000,000+\n",
      "Dictionary - WordWeb : 5,000,000+\n",
      "50000 Free eBooks & Free AudioBooks : 5,000,000+\n",
      "Al-Quran (Free) : 10,000,000+\n",
      "Al Quran Indonesia : 10,000,000+\n",
      "Al'Quran Bahasa Indonesia : 10,000,000+\n",
      "Al Quran Al karim : 1,000,000+\n",
      "Al Quran : EAlim - Translations & MP3 Offline : 5,000,000+\n",
      "Koran Read &MP3 30 Juz Offline : 1,000,000+\n",
      "Hafizi Quran 15 lines per page : 1,000,000+\n",
      "Quran for Android : 10,000,000+\n",
      "Satellite AR : 1,000,000+\n",
      "Oxford A-Z of English Usage : 1,000,000+\n",
      "Dictionary.com: Find Definitions for English Words : 10,000,000+\n",
      "English Dictionary - Offline : 10,000,000+\n",
      "Bible KJV : 5,000,000+\n",
      "NOOK: Read eBooks & Magazines : 10,000,000+\n",
      "Brilliant Quotes: Life, Love, Family & Motivation : 1,000,000+\n",
      "Stats Royale for Clash Royale : 1,000,000+\n",
      "Dictionary : 10,000,000+\n",
      "wikiHow: how to do anything : 1,000,000+\n",
      "EGW Writings : 1,000,000+\n",
      "My Little Pony AR Guide : 1,000,000+\n",
      "Spanish English Translator : 10,000,000+\n",
      "Dictionary - Merriam-Webster : 10,000,000+\n",
      "JW Library : 10,000,000+\n",
      "Oxford Dictionary of English : Free : 10,000,000+\n",
      "English Hindi Dictionary : 10,000,000+\n",
      "English to Hindi Dictionary : 5,000,000+\n"
     ]
    }
   ],
   "source": [
    "for app in android_final:\n",
    "    if app[1] == 'BOOKS_AND_REFERENCE' and (app[5] == '1,000,000+'\n",
    "                                            or app[5] == '5,000,000+'\n",
    "                                            or app[5] == '10,000,000+'\n",
    "                                            or app[5] == '50,000,000+'):\n",
    "        print(app[0], ':', app[5])"
   ]
  },
  {
   "cell_type": "markdown",
   "metadata": {},
   "source": [
    "We have gone through the Google Play Store and the Apple App Store. We have found that family apps in a semi-popular genre with some successful competiors but not behemouths.\n",
    "\n",
    "So we recommend an app that is perhaps in lifestyle with a focus on millenials and their impact on the environment. This app could track users consumption and rate thier carbon footprint and recommend them ways to reduce their foo"
   ]
  }
 ],
 "metadata": {
  "kernelspec": {
   "display_name": "Python 3",
   "language": "python",
   "name": "python3"
  },
  "language_info": {
   "codemirror_mode": {
    "name": "ipython",
    "version": 3
   },
   "file_extension": ".py",
   "mimetype": "text/x-python",
   "name": "python",
   "nbconvert_exporter": "python",
   "pygments_lexer": "ipython3",
   "version": "3.4.3"
  }
 },
 "nbformat": 4,
 "nbformat_minor": 2
}
